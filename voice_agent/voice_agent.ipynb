{
 "cells": [
  {
   "cell_type": "code",
   "execution_count": 4,
   "id": "b368f7ea-62f4-408f-b88e-205786626542",
   "metadata": {},
   "outputs": [
    {
     "name": "stdout",
     "output_type": "stream",
     "text": [
      "\n",
      "\u001b[1m[\u001b[0m\u001b[34;49mnotice\u001b[0m\u001b[1;39;49m]\u001b[0m\u001b[39;49m A new release of pip is available: \u001b[0m\u001b[31;49m23.1.2\u001b[0m\u001b[39;49m -> \u001b[0m\u001b[32;49m24.3.1\u001b[0m\n",
      "\u001b[1m[\u001b[0m\u001b[34;49mnotice\u001b[0m\u001b[1;39;49m]\u001b[0m\u001b[39;49m To update, run: \u001b[0m\u001b[32;49mpip install --upgrade pip\u001b[0m\n",
      "Note: you may need to restart the kernel to use updated packages.\n"
     ]
    }
   ],
   "source": [
    "%pip install --quiet -U langgraph duckduckgo-search langchain_core langchain_community langchain_ollama sounddevice scipy numpy==1.26.4 openai-whisper librosa phonemizer torch transformers scipy munch"
   ]
  },
  {
   "cell_type": "code",
   "execution_count": 5,
   "id": "0cfa2674-5958-4c93-99b8-2c44a60200e4",
   "metadata": {},
   "outputs": [],
   "source": [
    "import warnings\n",
    "warnings.filterwarnings(\"ignore\")"
   ]
  },
  {
   "cell_type": "code",
   "execution_count": 2,
   "id": "a6fcf5aa-e042-4475-b4ee-18f55197cc7d",
   "metadata": {},
   "outputs": [
    {
     "name": "stdin",
     "output_type": "stream",
     "text": [
      "LANGCHAIN_API_KEY:  ········\n"
     ]
    }
   ],
   "source": [
    "import os, getpass\n",
    "\n",
    "def _set_env(var: str):\n",
    "    # Check if the variable is set in the OS environment\n",
    "    env_value = os.environ.get(var)\n",
    "    if not env_value:\n",
    "        # If not set, prompt the user for input\n",
    "        env_value = getpass.getpass(f\"{var}: \")\n",
    "    \n",
    "    # Set the environment variable for the current process\n",
    "    os.environ[var] = env_value\n",
    "\n",
    "_set_env(\"LANGCHAIN_API_KEY\")\n",
    "\n",
    "import os\n",
    "os.environ[\"LANGCHAIN_TRACING_V2\"] = \"true\"\n",
    "os.environ[\"LANGCHAIN_PROJECT\"] = \"voice assistance\""
   ]
  },
  {
   "cell_type": "markdown",
   "id": "bc5d1ca4-f995-4977-bd6c-9453fd33be8b",
   "metadata": {},
   "source": [
    "## Whisper (ASR)"
   ]
  },
  {
   "cell_type": "code",
   "execution_count": 43,
   "id": "300bc0f6-a155-47ac-8098-6a55ca52aec3",
   "metadata": {},
   "outputs": [
    {
     "name": "stderr",
     "output_type": "stream",
     "text": [
      "100%|███████████████████████████████████████| 461M/461M [00:23<00:00, 20.4MiB/s]\n"
     ]
    }
   ],
   "source": [
    "import ssl\n",
    "import torch\n",
    "import whisper\n",
    "\n",
    "ssl._create_default_https_context = ssl._create_unverified_context\n",
    "\n",
    "device = \"cuda:0\" if torch.cuda.is_available() else \"cpu\"\n",
    "whisper_model = whisper.load_model(\"small\", device=device)"
   ]
  },
  {
   "cell_type": "markdown",
   "id": "da977ec5-ebbd-483b-a956-8afcd2f51d45",
   "metadata": {},
   "source": [
    "## Kokoro (TTS)"
   ]
  },
  {
   "cell_type": "code",
   "execution_count": 8,
   "id": "983e60d3-744d-4ec7-8f7c-b28d732f0fac",
   "metadata": {},
   "outputs": [
    {
     "name": "stdout",
     "output_type": "stream",
     "text": [
      "Cloning into 'Kokoro-82M'...\n",
      "remote: Enumerating objects: 140, done.\u001b[K\n",
      "remote: Counting objects: 100% (136/136), done.\u001b[K\n",
      "remote: Compressing objects: 100% (136/136), done.\u001b[K\n",
      "remote: Total 140 (delta 63), reused 0 (delta 0), pack-reused 4 (from 1)\u001b[K\n",
      "Receiving objects: 100% (140/140), 60.13 KiB | 10.02 MiB/s, done.\n",
      "Resolving deltas: 100% (63/63), done.\n",
      "Filtering content: 100% (17/17), 820.18 MiB | 33.83 MiB/s, done.\n"
     ]
    }
   ],
   "source": [
    "!git clone https://huggingface.co/hexgrad/Kokoro-82M"
   ]
  },
  {
   "cell_type": "code",
   "execution_count": 9,
   "id": "d78c2ec6-c468-49f8-865f-82cee85d4fc6",
   "metadata": {},
   "outputs": [
    {
     "name": "stdout",
     "output_type": "stream",
     "text": [
      "/Users/crixus/Documents/langgraph_examples/voice_assistance/Kokoro-82M\n"
     ]
    }
   ],
   "source": [
    "%cd Kokoro-82M"
   ]
  },
  {
   "cell_type": "code",
   "execution_count": 64,
   "id": "059db49e-56e6-4a8a-a08d-12089ccbc86b",
   "metadata": {},
   "outputs": [],
   "source": [
    "from models import build_model\n",
    "import torch\n",
    "from kokoro import generate\n",
    "\n",
    "device = 'cuda' if torch.cuda.is_available() else 'cpu'\n",
    "MODEL = build_model('kokoro-v0_19.pth', device)\n",
    "VOICE_NAME = [\n",
    "    'af', # Default voice is a 50-50 mix of Bella & Sarah\n",
    "    'af_bella', 'af_sarah', 'am_adam', 'am_michael',\n",
    "    'bf_emma', 'bf_isabella', 'bm_george', 'bm_lewis',\n",
    "    'af_nicole', 'af_sky',\n",
    "][9]\n",
    "VOICEPACK = torch.load(f'voices/{VOICE_NAME}.pt', weights_only=True).to(device)"
   ]
  },
  {
   "cell_type": "markdown",
   "id": "248387f0-7f9f-4b28-89f8-643cfc95d2d4",
   "metadata": {},
   "source": [
    "## Tools"
   ]
  },
  {
   "cell_type": "code",
   "execution_count": 65,
   "id": "2280e21a-bb31-4d6f-b897-58209602255a",
   "metadata": {},
   "outputs": [],
   "source": [
    "from langchain_community.tools import DuckDuckGoSearchResults\n",
    "\n",
    "search = DuckDuckGoSearchResults(k=5)"
   ]
  },
  {
   "cell_type": "code",
   "execution_count": 66,
   "id": "97df9c2c-9e0a-4693-9423-8fe8c9a8ea2b",
   "metadata": {},
   "outputs": [],
   "source": [
    "tools = [search]"
   ]
  },
  {
   "cell_type": "markdown",
   "id": "7b049456-235b-4995-abfd-c5e672349c87",
   "metadata": {},
   "source": [
    "## LLM"
   ]
  },
  {
   "cell_type": "code",
   "execution_count": 67,
   "id": "7ece955d-38a1-4fb1-9a5f-bf58d02b519f",
   "metadata": {},
   "outputs": [],
   "source": [
    "from langchain_ollama import ChatOllama\n",
    "\n",
    "llm = ChatOllama(\n",
    "        base_url=\"http://localhost:11434\",\n",
    "        model=\"llama3.2\",\n",
    "        temperature=0,\n",
    "        streaming=True\n",
    "    )"
   ]
  },
  {
   "cell_type": "code",
   "execution_count": 68,
   "id": "28e914d2-5e5e-4742-8025-031a1f1d67d9",
   "metadata": {},
   "outputs": [],
   "source": [
    "llm_with_tools = llm.bind_tools(tools)"
   ]
  },
  {
   "cell_type": "markdown",
   "id": "126d70f5-948f-49ac-872d-fc5f84c9788a",
   "metadata": {},
   "source": [
    "## Prompt"
   ]
  },
  {
   "cell_type": "code",
   "execution_count": 69,
   "id": "12ce6020-1e0c-4b4c-8e9d-a6ef5e54ab4f",
   "metadata": {},
   "outputs": [],
   "source": [
    "prompt = (\n",
    "    \"\"\"\n",
    "    You are an AI assistant focused on delivering accurate, professional, and helpful responses. Your goal is to provide high-quality information while maintaining a courteous tone. Follow these steps:\n",
    "    \n",
    "    1. **Knowledge and Search Protocol**:\n",
    "       - **Internal Knowledge First**: Always use your knowledge base for straightforward questions that do not require up-to-date or specialized data. Only initiate a search if the query is complex, highly specialized, or requires current information.\n",
    "       - **Search When Necessary**: If unsure or the topic is beyond your internal knowledge, or if verification of specific details is needed, search for current or detailed information.\n",
    "    \n",
    "    2. **Response Quality**:\n",
    "       - Provide clear, well-structured answers with relevant context.\n",
    "       - Be precise and accurate, citing sources when using searched data.\n",
    "       - Maintain clarity and simplicity, adapting to the user’s expertise.\n",
    "    \n",
    "    3. **Communication Style**:\n",
    "       - Use formal, respectful language.\n",
    "       - Organize information logically.\n",
    "       - Be transparent when using external data.\n",
    "    \n",
    "    4. **Error Handling**:\n",
    "       - Acknowledge when unsure or conflicting information arises.\n",
    "       - Suggest alternatives or offer to search more if needed.\n",
    "    \n",
    "    5. **Follow-up and Support**:\n",
    "       - Provide additional insights, suggest related topics, and be open to clarifications.\n",
    "    \"\"\"\n",
    ")"
   ]
  },
  {
   "cell_type": "code",
   "execution_count": 70,
   "id": "7f57ae36-721d-4a19-9832-e1660aeb1c45",
   "metadata": {},
   "outputs": [],
   "source": [
    "from langchain_core.prompts import ChatPromptTemplate\n",
    "\n",
    "prompt = ChatPromptTemplate.from_messages([\n",
    "    (\"system\", prompt),\n",
    "    (\"placeholder\", \"{message}\")\n",
    "])"
   ]
  },
  {
   "cell_type": "markdown",
   "id": "ff8e99b3-42e0-48bf-af7c-8f8adbeddde3",
   "metadata": {},
   "source": [
    "## Graph"
   ]
  },
  {
   "cell_type": "code",
   "execution_count": 71,
   "id": "3ea85abf-4a27-4c23-8644-216c1f2c7c1c",
   "metadata": {},
   "outputs": [],
   "source": [
    "import threading\n",
    "\n",
    "import io\n",
    "import threading\n",
    "import numpy as np\n",
    "from scipy.io.wavfile import write\n",
    "\n",
    "import librosa\n",
    "import sounddevice as sd\n",
    "\n",
    "from typing import List, Literal\n",
    "from IPython.display import Image, display\n",
    "from langgraph.graph import START, END, StateGraph\n",
    "from langgraph.graph import MessagesState\n",
    "from langgraph.prebuilt import tools_condition, ToolNode\n",
    "from langchain_core.messages import AIMessage, HumanMessage, SystemMessage\n",
    "from langgraph.checkpoint.memory import MemorySaver"
   ]
  },
  {
   "cell_type": "code",
   "execution_count": 72,
   "id": "f5561ac1-9e43-4d77-8224-3c2863e65ff5",
   "metadata": {},
   "outputs": [],
   "source": [
    "def assistant(state: MessagesState):\n",
    "    formated_promt = prompt.format(message=state[\"messages\"])\n",
    "    message = [{\"role\": \"system\", \"content\": formated_promt}] + state[\"messages\"]\n",
    "    return {\"messages\": [llm_with_tools.invoke(message)]}\n"
   ]
  },
  {
   "cell_type": "code",
   "execution_count": 73,
   "id": "b78d545c-e4b6-465f-ba12-fce398187a96",
   "metadata": {},
   "outputs": [],
   "source": [
    "def record_audio_until_stop(state: MessagesState):\n",
    "\n",
    "    \"\"\"Records audio from the microphone until Enter is pressed, then saves it to a .wav file.\"\"\"\n",
    "    \n",
    "    audio_data = []  # List to store audio chunks\n",
    "    recording = True  # Flag to control recording\n",
    "    sample_rate = 16000 # (kHz) Adequate for human voice frequency\n",
    "\n",
    "    def record_audio():\n",
    "        \"\"\"Continuously records audio until the recording flag is set to False.\"\"\"\n",
    "        nonlocal audio_data, recording\n",
    "        with sd.InputStream(samplerate=sample_rate, channels=1, dtype='int16') as stream:\n",
    "            print(\"Recording your instruction! ... Press Enter to stop recording.\")\n",
    "            while recording:\n",
    "                audio_chunk, _ = stream.read(1024)  # Read audio data in chunks\n",
    "                audio_data.append(audio_chunk)\n",
    "\n",
    "    def stop_recording():\n",
    "        \"\"\"Waits for user input to stop the recording.\"\"\"\n",
    "        input()  # Wait for Enter key press\n",
    "        nonlocal recording\n",
    "        recording = False\n",
    "\n",
    "    # Start recording in a separate thread\n",
    "    recording_thread = threading.Thread(target=record_audio)\n",
    "    recording_thread.start()\n",
    "\n",
    "    # Start a thread to listen for the Enter key\n",
    "    stop_thread = threading.Thread(target=stop_recording)\n",
    "    stop_thread.start()\n",
    "\n",
    "    # Wait for both threads to complete\n",
    "    stop_thread.join()\n",
    "    recording_thread.join()\n",
    "\n",
    "    # Stack all audio chunks into a single NumPy array and write to file\n",
    "    audio_data = np.concatenate(audio_data, axis=0)\n",
    "    \n",
    "    # Convert to WAV format in-memory\n",
    "    audio_bytes = io.BytesIO()\n",
    "    write(audio_bytes, sample_rate, audio_data)  # Use scipy's write function to save to BytesIO\n",
    "    audio_bytes.seek(0)  # Go to the start of the BytesIO buffer\n",
    "    audio_bytes.name = \"audio.wav\" # Set a filename for the in-memory file\n",
    "\n",
    "    # Load audio data as NumPy array\n",
    "    audio_np, sr = librosa.load(audio_bytes, sr=None, mono=True)\n",
    "\n",
    "    # Preprocess and transcribe using Whisper\n",
    "    audio = whisper.pad_or_trim(audio_np)\n",
    "    mel = whisper.log_mel_spectrogram(audio).to(device)\n",
    "\n",
    "    # Detect language\n",
    "    _, probs = whisper_model.detect_language(mel)\n",
    "    detected_language = max(probs, key=probs.get)\n",
    "\n",
    "    # Transcribe\n",
    "    # options = {\"language\": detected_language, \"task\": \"transcribe\"}\n",
    "    options = {\"language\": \"en\", \"task\": \"transcribe\"}\n",
    "    transcription = whisper_model.transcribe(audio, **options, fp16=False)\n",
    "    \n",
    "\n",
    "    # Print the transcription\n",
    "    print(\"Here is the transcription:\", transcription[\"text\"])\n",
    "\n",
    "    # Write to messages \n",
    "    return {\"messages\": [HumanMessage(content=transcription[\"text\"])]}"
   ]
  },
  {
   "cell_type": "code",
   "execution_count": 74,
   "id": "a4a3d277-477d-4b4b-9738-81cead981844",
   "metadata": {},
   "outputs": [],
   "source": [
    "def play_audio_from_text(state: MessagesState):\n",
    "    \"\"\"\n",
    "    Generate and play audio from the given text in one method.\n",
    "    \"\"\"\n",
    "    chunk_size = 200\n",
    "    message = state['messages'][-1]\n",
    "    \n",
    "    # Step 1: Create smaller chunks with sentence-aware breaks\n",
    "    def create_smaller_chunks(message, chunk_size):\n",
    "        text = message.content.replace(\"*\", \"\")\n",
    "        text = text.replace('\\n', ' ').strip()\n",
    "        chunks = []\n",
    "        start = 0\n",
    "        \n",
    "        while start < len(text):\n",
    "            end = start + chunk_size\n",
    "            \n",
    "            if end < len(text):\n",
    "                last_period = text.rfind('. ', start, end)\n",
    "                last_question = text.rfind('? ', start, end)\n",
    "                last_exclaim = text.rfind('! ', start, end)\n",
    "                \n",
    "                break_point = max(last_period, last_question, last_exclaim)\n",
    "                \n",
    "                if break_point != -1 and break_point > start:\n",
    "                    end = break_point + 2\n",
    "                else:\n",
    "                    last_space = text.rfind(' ', start, end)\n",
    "                    if last_space != -1 and last_space > start:\n",
    "                        end = last_space + 1\n",
    "                    else:\n",
    "                        end = min(start + chunk_size, len(text))\n",
    "            else:\n",
    "                end = len(text)\n",
    "            \n",
    "            chunk = text[start:end].strip()\n",
    "            chunks.append(chunk)\n",
    "            start = end\n",
    "        \n",
    "        return chunks\n",
    "\n",
    "    # Step 2: Process the text into chunks\n",
    "    print(\"Starting text processing with smaller chunks...\")\n",
    "    chunks = create_smaller_chunks(message, chunk_size)\n",
    "    # print(f\"\\nCreated {len(chunks)} chunks\")\n",
    "\n",
    "    # Step 3: Generate audio for each chunk\n",
    "    audio_chunks = []\n",
    "    for i, chunk in enumerate(chunks, 1):\n",
    "        # print(f\"\\nProcessing chunk {i}/{len(chunks)}\")\n",
    "        # print(f\"Chunk length: {len(chunk)}\")\n",
    "        # print(f\"Chunk content: {chunk}\")\n",
    "        audio, out_ps = generate(MODEL, chunk, VOICEPACK, lang=VOICE_NAME[0])\n",
    "        audio_chunks.append(audio)\n",
    "\n",
    "    # Step 4: Concatenate and play the final audio\n",
    "    final_audio = np.concatenate(audio_chunks)\n",
    "\n",
    "    # Step 5: Play the audio using sounddevice\n",
    "    samplerate = 24000  # Kokoro's default sample rate\n",
    "    sd.play(final_audio, samplerate)\n",
    "    sd.wait()  # Wait until the audio is finished playing\n"
   ]
  },
  {
   "cell_type": "code",
   "execution_count": 75,
   "id": "3f00c5ef-e549-4b42-b884-11138a9b11b7",
   "metadata": {},
   "outputs": [],
   "source": [
    "def route_assistant(state: MessagesState) -> Literal[\"tools\", \"audio_output\"]:\n",
    "    # Your logic to decide whether to use tools or go to audio output\n",
    "    # For example:\n",
    "    last_message = state[\"messages\"][-1]\n",
    "    if last_message.tool_calls:\n",
    "        return \"tools\"\n",
    "    return \"audio_output\""
   ]
  },
  {
   "cell_type": "code",
   "execution_count": 76,
   "id": "42e34c5a-d332-4132-b93f-59fc2c1d81d1",
   "metadata": {},
   "outputs": [],
   "source": [
    "memory = MemorySaver()\n",
    "builder = StateGraph(MessagesState)\n",
    "\n",
    "builder.add_node(\"audio_input\", record_audio_until_stop)\n",
    "builder.add_node(\"assistant\", assistant)\n",
    "builder.add_node(ToolNode(tools))\n",
    "builder.add_node(\"audio_output\", play_audio_from_text)\n",
    "\n",
    "builder.add_conditional_edges(\n",
    "    \"assistant\",\n",
    "    route_assistant,\n",
    "    {\n",
    "        \"audio_output\": \"audio_output\",\n",
    "        \"tools\": \"tools\",\n",
    "    }\n",
    ")\n",
    "\n",
    "builder.add_edge(START, \"audio_input\")\n",
    "builder.add_edge(\"audio_input\", \"assistant\")\n",
    "builder.add_edge(\"tools\", \"assistant\")\n",
    "builder.add_edge(\"audio_output\", END)\n",
    "\n",
    "\n",
    "graph = builder.compile(checkpointer=memory)"
   ]
  },
  {
   "cell_type": "code",
   "execution_count": 77,
   "id": "fd1dc8ce-0560-496e-afe9-374b244a8e8a",
   "metadata": {},
   "outputs": [
    {
     "data": {
      "image/png": "[encoded data removed]",
      "text/plain": [
       "<IPython.core.display.Image object>"
      ]
     },
     "metadata": {},
     "output_type": "display_data"
    }
   ],
   "source": [
    "from IPython.display import Image, display\n",
    "\n",
    "try:\n",
    "    display(Image(graph.get_graph().draw_mermaid_png()))\n",
    "except Exception:\n",
    "    pass"
   ]
  },
  {
   "cell_type": "markdown",
   "id": "1669354d-0d57-4904-84a2-6b3a7df4ab4a",
   "metadata": {},
   "source": [
    "## Test"
   ]
  },
  {
   "cell_type": "code",
   "execution_count": 84,
   "id": "6b5adc8f-e668-4bc4-a240-2e69b925b8b9",
   "metadata": {},
   "outputs": [],
   "source": [
    "import uuid\n",
    "thread_id = str(uuid.uuid4())"
   ]
  },
  {
   "cell_type": "code",
   "execution_count": 86,
   "id": "2a4138d9-8faa-4a1a-a13b-40499a71b371",
   "metadata": {},
   "outputs": [
    {
     "name": "stdout",
     "output_type": "stream",
     "text": [
      "================================\u001b[1m Human Message \u001b[0m=================================\n",
      "\n",
      "Follow the user's instructions:\n",
      "Recording your instruction! ... Press Enter to stop recording.\n"
     ]
    },
    {
     "name": "stdin",
     "output_type": "stream",
     "text": [
      " \n"
     ]
    },
    {
     "name": "stdout",
     "output_type": "stream",
     "text": [
      "Here is the transcription:  Create a poem about rabbits.\n",
      "================================\u001b[1m Human Message \u001b[0m=================================\n",
      "\n",
      " Create a poem about rabbits.\n",
      "==================================\u001b[1m Ai Message \u001b[0m==================================\n",
      "Tool Calls:\n",
      "  generate_poem (2cfaf529-46d1-49c1-a955-ca76341fd92a)\n",
      " Call ID: 2cfaf529-46d1-49c1-a955-ca76341fd92a\n",
      "  Args:\n",
      "    k: 5\n",
      "    n: 10\n",
      "    p: rabbits\n",
      "=================================\u001b[1m Tool Message \u001b[0m=================================\n",
      "Name: generate_poem\n",
      "\n",
      "Error: generate_poem is not a valid tool, try one of [duckduckgo_results_json].\n",
      "==================================\u001b[1m Ai Message \u001b[0m==================================\n",
      "\n",
      "Here's a poem about rabbits:\n",
      "\n",
      "In sun-kissed meadows, they love to play,\n",
      "Rabbits dancing, on a warm summer day.\n",
      "Their fur so soft, their eyes so bright,\n",
      "They hop and leap, with joyful delight.\n",
      "\n",
      "With twitching noses, they sniff the air,\n",
      " Searching for carrots, without a care.\n",
      "Their little paws, move quick as can be,\n",
      "As they explore, wild and free.\n",
      "\n",
      "In burrows deep, they find their nest,\n",
      "A cozy haven, where they can rest.\n",
      "Their families close, they snuggle in tight,\n",
      "A bundle of love, on a peaceful night.\n",
      "\n",
      "With gentle hearts, and playful ways,\n",
      "Rabbits bring joy, to brighten up our days.\n",
      "So let's cherish these creatures so dear,\n",
      "And appreciate, their presence here.\n",
      "Starting text processing with smaller chunks...\n"
     ]
    }
   ],
   "source": [
    "config = {\"configurable\": {\"user_id\": \"Audio Assistant\", \"thread_id\": thread_id}}\n",
    "\n",
    "for chunk in graph.stream({\"messages\": HumanMessage(content=\"Follow the user's instructions:\")}, stream_mode=\"values\", config=config):\n",
    "    chunk[\"messages\"][-1].pretty_print()"
   ]
  },
  {
   "cell_type": "code",
   "execution_count": null,
   "id": "ec0dd106-05e1-4958-af5b-8482ba79bcaf",
   "metadata": {},
   "outputs": [],
   "source": []
  },
  {
   "cell_type": "code",
   "execution_count": null,
   "id": "a9e22b75-7830-491c-8324-45ffbec468ea",
   "metadata": {},
   "outputs": [],
   "source": []
  }
 ],
 "metadata": {
  "kernelspec": {
   "display_name": "Python 3 (ipykernel)",
   "language": "python",
   "name": "python3"
  },
  "language_info": {
   "codemirror_mode": {
    "name": "ipython",
    "version": 3
   },
   "file_extension": ".py",
   "mimetype": "text/x-python",
   "name": "python",
   "nbconvert_exporter": "python",
   "pygments_lexer": "ipython3",
   "version": "3.11.4"
  }
 },
 "nbformat": 4,
 "nbformat_minor": 5
}
